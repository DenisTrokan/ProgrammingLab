{
 "cells": [
  {
   "cell_type": "markdown",
   "metadata": {},
   "source": [
    "### **1. Trasformare cicli in list comprehension**\n",
    "\n",
    "Fai tre esempi di cicli producono una lista e poi riscrivi lo stesso codice usando la list comprehension"
   ]
  },
  {
   "cell_type": "code",
   "execution_count": null,
   "metadata": {},
   "outputs": [],
   "source": [
    "# quadrati pari \n",
    "n = 20\n",
    "pari=[]\n",
    "for i in range(n):\n",
    "    if i % 2==0:\n",
    "        pari.append(i**2)\n",
    "pariLC=[i**2 for i in range (n) if i%2==0]\n",
    "\n",
    "# lista di tuple dove il primo elemento è il nome e il secondo la sua lunghezza.\n",
    "nomi = [\"Anna\", \"Luca\", \"Giovanni\", \"Paolo\", \"Chiara\"]\n",
    "nomiLen=[]\n",
    "for item in nomi:\n",
    "    nomiLen.append((item,len(item)))\n",
    "\n",
    "nomiLenLC=[(item,len(item)) for item in nomi]\n",
    "\n",
    "# lista di numeri tra 1 e 50 che siano multipli sia di 3 che di 5.\n",
    "listaNdiv3e5=[]\n",
    "for i in range(1,50):\n",
    "    if (i % 3==0) and (i % 5 == 0):\n",
    "        listaNdiv3e5.append(i)\n",
    "        \n",
    "listaNdiv3e5LC = [i for i in range(1,50) if (i % 3==0) and (i % 5 == 0) ]\n"
   ]
  },
  {
   "cell_type": "markdown",
   "metadata": {},
   "source": [
    "### **2. Vettore di Numeri Primi**\n",
    "\n",
    "1. **Crea un vettore** contenente tutti i numeri primi compresi tra **0 e 10**  \n",
    "   _(Puoi scriverli direttamente nell'array)._\n",
    "\n",
    "2. **Conta quanti numeri ci sono nel vettore** utilizzando la funzione `len()`.  **Ottieni lo stesso numero** accedendo all'attributo `.size` del vettore.\n",
    "\n",
    "3. Quale pensi sia il tipo di dato (`dtype`) del vettore?  Prova a rispondere senza eseguire il codice e Verifica la tua risposta accedendo all'attributo `.dtype` del vettore\n",
    "\n",
    "4. Scrivi l'array usando una list comprehension che controlla che i numeri siano primi. "
   ]
  },
  {
   "cell_type": "code",
   "execution_count": 13,
   "metadata": {},
   "outputs": [
    {
     "name": "stdout",
     "output_type": "stream",
     "text": [
      "lunghezza array tramite \"array.size\" : 4\n",
      "lunghezza array tramite \"len(array)\" : 4\n",
      "tipo di dato aspettato: \"int64\", datro trovato: int64\n"
     ]
    }
   ],
   "source": [
    "import numpy as np\n",
    "array = np.array([2, 3, 5, 7])\n",
    "print(f\"lunghezza array tramite \\\"array.size\\\" : {array.size}\")\n",
    "print(f\"lunghezza array tramite \\\"len(array)\\\" : {len(array)}\")\n",
    "print (f\"tipo di dato aspettato: \\\"int64\\\", datro trovato: {array.dtype}\")\n",
    "#array riscritto con la list comprehension \n",
    "isPrime = lambda n: n > 1 and all(n % i != 0 for i in range(2, int(n**0.5) + 1))\n",
    "\n",
    "arrayLC=np.array([i for i in range(10) if isPrime(i) ])\n",
    "\n",
    "  "
   ]
  },
  {
   "cell_type": "markdown",
   "metadata": {},
   "source": [
    "### **3.  Operazioni su array**\n",
    "Crea un array **a**, 1D (senza digitarlo esplicitamente), e genera due nuovi array **b**, contenente una sottostringa a piacere e **c** che è il reverse dell'array **a** (esempio [1,2,3] diventa [3,2,1]) .  Dividi l'array **a** per l'array **c**. Fai la stessa cosa per una lista."
   ]
  },
  {
   "cell_type": "code",
   "execution_count": null,
   "metadata": {},
   "outputs": [],
   "source": []
  }
 ],
 "metadata": {
  "kernelspec": {
   "display_name": "condaPyEnv",
   "language": "python",
   "name": "python3"
  },
  "language_info": {
   "codemirror_mode": {
    "name": "ipython",
    "version": 3
   },
   "file_extension": ".py",
   "mimetype": "text/x-python",
   "name": "python",
   "nbconvert_exporter": "python",
   "pygments_lexer": "ipython3",
   "version": "3.12.9"
  }
 },
 "nbformat": 4,
 "nbformat_minor": 2
}
