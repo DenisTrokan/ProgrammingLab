{
 "cells": [
  {
   "cell_type": "markdown",
   "id": "2f0f07ae",
   "metadata": {},
   "source": [
    "# 📊 Guida completa a Pandas \n"
   ]
  },
  {
   "cell_type": "code",
   "execution_count": 1,
   "id": "05748b15",
   "metadata": {},
   "outputs": [],
   "source": [
    "import pandas as pd\n",
    "import numpy as np"
   ]
  },
  {
   "cell_type": "markdown",
   "id": "775869b7",
   "metadata": {},
   "source": [
    "## 📌 Series e DataFrame\n",
    "Pandas lavora principalmente con due strutture dati:\n",
    "- `Series`: array unidimensionale con etichette\n",
    "- `DataFrame`: tabella bidimensionale (tipo Excel)"
   ]
  },
  {
   "cell_type": "code",
   "execution_count": null,
   "id": "ec28e66c",
   "metadata": {},
   "outputs": [],
   "source": [
    "# Serie\n",
    "s = pd.Series([10, 20, 30], index=['a', 'b', 'c'])\n",
    "print(s)\n",
    "\n",
    "# DataFrame\n",
    "df = pd.DataFrame({'Nome': ['Anna', 'Luca', 'Marco'], 'Età': [22, 35, 28]})\n",
    "print(df)"
   ]
  },
  {
   "cell_type": "markdown",
   "id": "7c3376ca",
   "metadata": {},
   "source": [
    "## 🏗️ Creazione e ispezione di DataFrame"
   ]
  },
  {
   "cell_type": "code",
   "execution_count": null,
   "id": "47dedef6",
   "metadata": {},
   "outputs": [],
   "source": [
    "# Info, forma e prime righe\n",
    "print(df.info())\n",
    "print(df.shape)\n",
    "print(df.head())"
   ]
  },
  {
   "cell_type": "markdown",
   "id": "7d8cacc2",
   "metadata": {},
   "source": [
    "## 📥 Importazione / esportazione dati"
   ]
  },
  {
   "cell_type": "code",
   "execution_count": null,
   "id": "84a9ecbd",
   "metadata": {},
   "outputs": [],
   "source": [
    "# CSV\n",
    "# df = pd.read_csv('dati.csv')\n",
    "\n",
    "# Excel\n",
    "# df = pd.read_excel('dati.xlsx')\n",
    "\n",
    "# Salvataggio\n",
    "# df.to_csv('output.csv', index=False)\n",
    "# df.to_excel('output.xlsx', index=False)"
   ]
  },
  {
   "cell_type": "markdown",
   "id": "5ab91c16",
   "metadata": {},
   "source": [
    "## 🔎 Selezione e filtraggio"
   ]
  },
  {
   "cell_type": "code",
   "execution_count": null,
   "id": "4827e451",
   "metadata": {},
   "outputs": [],
   "source": [
    "# Colonna\n",
    "df['Età']\n",
    "\n",
    "# Righe\n",
    "df.loc[0]        # per etichetta\n",
    "df.iloc[1]       # per posizione\n",
    "\n",
    "# Filtro\n",
    "df[df['Età'] > 25]"
   ]
  },
  {
   "cell_type": "markdown",
   "id": "4b481df6",
   "metadata": {},
   "source": [
    "## ✏️ Manipolazione di righe e colonne"
   ]
  },
  {
   "cell_type": "code",
   "execution_count": null,
   "id": "2b4a4db7",
   "metadata": {},
   "outputs": [],
   "source": [
    "# Aggiunta colonna\n",
    "df['Senior'] = df['Età'] > 30\n",
    "\n",
    "# Rimozione\n",
    "df = df.drop(columns='Senior')\n",
    "\n",
    "# Rinominare\n",
    "df.rename(columns={'Età': 'Eta'}, inplace=True)"
   ]
  },
  {
   "cell_type": "markdown",
   "id": "2ee0f612",
   "metadata": {},
   "source": [
    "## ❓ Valori mancanti"
   ]
  },
  {
   "cell_type": "code",
   "execution_count": null,
   "id": "69dda4c2",
   "metadata": {},
   "outputs": [],
   "source": [
    "df2 = pd.DataFrame({'A': [1, np.nan, 3], 'B': [4, 5, np.nan]})\n",
    "\n",
    "# Controllo\n",
    "df2.isnull()\n",
    "\n",
    "# Rimozione o riempimento\n",
    "df2.dropna()\n",
    "df2.fillna(0)"
   ]
  },
  {
   "cell_type": "markdown",
   "id": "b5d45f0b",
   "metadata": {},
   "source": [
    "## 🔗 Groupby e aggregazioni"
   ]
  },
  {
   "cell_type": "code",
   "execution_count": null,
   "id": "66595fb5",
   "metadata": {},
   "outputs": [
    {
     "data": {
      "text/plain": [
       "<pandas.core.groupby.generic.DataFrameGroupBy object at 0x13ccad810>"
      ]
     },
     "execution_count": 3,
     "metadata": {},
     "output_type": "execute_result"
    }
   ],
   "source": [
    "df_group = pd.DataFrame({\n",
    "    'Categoria': ['A', 'A', 'B', 'B'],\n",
    "    'Valore': [10, 20, 30, 40]\n",
    "})\n",
    "\n",
    "df_group.groupby('Categoria').sum()"
   ]
  },
  {
   "cell_type": "markdown",
   "id": "379e7f9f",
   "metadata": {},
   "source": [
    "## 🔁 Merge e Join"
   ]
  },
  {
   "cell_type": "code",
   "execution_count": null,
   "id": "c919a2d3",
   "metadata": {},
   "outputs": [],
   "source": [
    "df1 = pd.DataFrame({'ID': [1, 2], 'Nome': ['Anna', 'Luca']})\n",
    "df2 = pd.DataFrame({'ID': [1, 2], 'Età': [22, 35]})\n",
    "\n",
    "pd.merge(df1, df2, on='ID')"
   ]
  },
  {
   "cell_type": "markdown",
   "id": "a6115650",
   "metadata": {},
   "source": [
    "## 🔃 Ordinamento e trasformazioni"
   ]
  },
  {
   "cell_type": "code",
   "execution_count": null,
   "id": "051957c1",
   "metadata": {},
   "outputs": [],
   "source": [
    "df.sort_values(by='Eta', ascending=False)\n",
    "df['Eta'].apply(lambda x: x * 2)"
   ]
  },
  {
   "cell_type": "markdown",
   "id": "ea43ba51",
   "metadata": {},
   "source": [
    "## 🔄 Pivot, Melt, Stack, Unstack"
   ]
  },
  {
   "cell_type": "code",
   "execution_count": null,
   "id": "1b766cb2",
   "metadata": {},
   "outputs": [],
   "source": [
    "df_pivot = pd.DataFrame({\n",
    "    'Data': ['2023-01', '2023-01', '2023-02'],\n",
    "    'Categoria': ['A', 'B', 'A'],\n",
    "    'Valore': [10, 20, 30]\n",
    "})\n",
    "\n",
    "# Pivot\n",
    "df_pivot.pivot(index='Data', columns='Categoria', values='Valore')\n",
    "\n",
    "# Melt\n",
    "pd.melt(df_pivot, id_vars='Data')\n",
    "\n",
    "# Stack / Unstack\n",
    "df_pivot.set_index(['Data', 'Categoria']).unstack()"
   ]
  },
  {
   "cell_type": "markdown",
   "id": "ab3bf609",
   "metadata": {},
   "source": [
    "## 🕒 Date e orari"
   ]
  },
  {
   "cell_type": "code",
   "execution_count": null,
   "id": "1e2d34fe",
   "metadata": {},
   "outputs": [],
   "source": [
    "date_rng = pd.date_range(start='2023-01-01', end='2023-01-10', freq='D')\n",
    "df_dates = pd.DataFrame(date_rng, columns=['data'])\n",
    "\n",
    "# Aggiunta colonna giorno\n",
    "df_dates['giorno'] = df_dates['data'].dt.day_name()\n",
    "print(df_dates.head())"
   ]
  },
  {
   "cell_type": "markdown",
   "id": "9da939b1",
   "metadata": {},
   "source": [
    "## ✅ Suggerimenti utili e best practices\n",
    "- Usa `.copy()` quando modifichi porzioni di DataFrame\n",
    "- Controlla sempre `.info()` per avere una panoramica\n",
    "- Combina Pandas con Matplotlib o Seaborn per analisi visiva"
   ]
  }
 ],
 "metadata": {
  "kernelspec": {
   "display_name": "base",
   "language": "python",
   "name": "python3"
  },
  "language_info": {
   "codemirror_mode": {
    "name": "ipython",
    "version": 3
   },
   "file_extension": ".py",
   "mimetype": "text/x-python",
   "name": "python",
   "nbconvert_exporter": "python",
   "pygments_lexer": "ipython3",
   "version": "3.13.5"
  }
 },
 "nbformat": 4,
 "nbformat_minor": 5
}
